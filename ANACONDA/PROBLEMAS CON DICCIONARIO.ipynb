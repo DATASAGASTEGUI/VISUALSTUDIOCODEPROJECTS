{
 "cells": [
  {
   "cell_type": "markdown",
   "id": "8c25a8d9",
   "metadata": {},
   "source": [
    "<center><font color=red>\n",
    "    <h1>PROBLEMAS CON DICCIONARIO</h1>\n",
    "</font>\n",
    "</center>"
   ]
  },
  {
   "cell_type": "markdown",
   "id": "d03ba6c9",
   "metadata": {},
   "source": [
    "### EJERCICIO 1"
   ]
  },
  {
   "cell_type": "markdown",
   "id": "99ed1506",
   "metadata": {},
   "source": [
    "<div class=text-justify>\n",
    "Escribir un programa que guarde en una variable el diccionario {'Euro':'€', 'Dollar':'$', 'Yen':'¥'}, pregunte al usuario por una divisa y muestre su símbolo o un mensaje de aviso si la divisa no está en el diccionario.\n",
    "</div>"
   ]
  },
  {
   "cell_type": "code",
   "execution_count": null,
   "id": "154f1db9",
   "metadata": {},
   "outputs": [],
   "source": [
    "# SOLUCION 1\n",
    "monedas_d = {'Euro':'€', 'Dollar':'$', 'Yen':'¥'}\n",
    "clave = input('Ingrese nombre divisa? ')\n",
    "valor = monedas_d.get(clave,'La divisa no existe')\n",
    "print(clave,'=',valor)"
   ]
  },
  {
   "cell_type": "code",
   "execution_count": null,
   "id": "0f5c8741",
   "metadata": {},
   "outputs": [],
   "source": [
    "# SOLUCION 2\n",
    "monedas_d = {'Euro':'€', 'Dollar':'$', 'Yen':'¥'}\n",
    "clave = input('Ingrese nombre divisa? ')\n",
    "if clave in monedas_d:\n",
    "   print(clave,'=',monedas_d[clave])\n",
    "else:\n",
    "   print('La divisa no existe')\n"
   ]
  },
  {
   "cell_type": "markdown",
   "id": "82127ec9",
   "metadata": {},
   "source": [
    "### EJERCICIO 2"
   ]
  },
  {
   "cell_type": "markdown",
   "id": "fcfa67b1",
   "metadata": {},
   "source": [
    "<div class=text-justify>\n",
    "Escribir un programa que pregunte al usuario su nombre, edad, dirección y teléfono y lo guarde en un diccionario. Después debe mostrar por pantalla el mensaje <nombre> tiene <edad> años, vive en <dirección> y su número de teléfono es <teléfono>.\n",
    "    </div>"
   ]
  },
  {
   "cell_type": "code",
   "execution_count": null,
   "id": "9cbabff3",
   "metadata": {},
   "outputs": [],
   "source": [
    "nombre = input('Ingrese nombre? ') # Luis\n",
    "edad = numeroEntero('Ingrese edad? ')\n",
    "direccion = input('Ingrese dirección? ')\n",
    "telefono = numeroEntero('Ingrese teléfono? ')\n",
    "\n",
    "persona_d = {'nombre':nombre, 'edad':edad, 'direccion':direccion,'telefono':telefono}\n",
    "\n",
    "print(persona_d['nombre'],' tiene ',persona_d['edad'],' años vive en ',persona_d['direccion'],' con teléfono ',persona_d['telefono'])\n"
   ]
  },
  {
   "cell_type": "markdown",
   "id": "58099518",
   "metadata": {},
   "source": [
    "### EJERCICIO 3"
   ]
  },
  {
   "cell_type": "markdown",
   "id": "c79ac5c6",
   "metadata": {},
   "source": [
    "<div class=text-justify>\n",
    "Escribir un programa que guarde en un diccionario los precios de las frutas de la tabla, pregunte al usuario por una fruta, un número de kilos y muestre por pantalla el precio de ese número de kilos de fruta. Si la fruta no está en el diccionario debe mostrar un mensaje informando de ello.\n",
    "</div>\n",
    "\n",
    "<table>\n",
    "  <thead>\n",
    "    <tr>\n",
    "      <th style='text-align: left;'>Fruta</th>\n",
    "      <th>Precio</th>\n",
    "    </tr>\n",
    "  </thead>\n",
    "  <tbody>\n",
    "    <tr>\n",
    "      <td style='text-align: left;'>Plátano</td>\n",
    "      <td>1.35</td>\n",
    "    </tr>\n",
    "    <tr>\n",
    "      <td style='text-align: left;'>Manzana</td>\n",
    "      <td>0.80</td>\n",
    "    </tr>\n",
    "    <tr>\n",
    "      <td style='text-align: left;'>Pera</td>\n",
    "      <td>0.85</td>\n",
    "    </tr>\n",
    "    <tr>\n",
    "      <td style='text-align: left;'>Naranja</td>\n",
    "      <td>0.70</td>\n",
    "    </tr>\n",
    "  </tbody>\n"
   ]
  },
  {
   "cell_type": "code",
   "execution_count": null,
   "id": "d63fb5c5",
   "metadata": {},
   "outputs": [],
   "source": [
    "# SOLUCION 1\n",
    "frutas_d = {'Platano':1.35, 'Manzana':0.80, 'Pera':0.85, 'Naranja':0.70}\n",
    "fruta = input('Ingrese nombre de la fruta? ')\n",
    "kilos = numeroReal('Ingrese cantidad de kilos a comprar? ')\n",
    "if fruta in frutas_d:\n",
    "    print(kilos, ' kilos de ', fruta, ' valen ', round(frutas_d[fruta]*kilos,2), '€')\n",
    "else:\n",
    "    print('Lo siento, la fruta ',fruta,' no está disponible.')"
   ]
  },
  {
   "cell_type": "code",
   "execution_count": null,
   "id": "4deb1eb1",
   "metadata": {},
   "outputs": [],
   "source": [
    "# SOLUCION 2\n",
    "frutas_d = {'Platano':1.35, 'Manzana':0.80, 'Pera':0.85, 'Naranja':0.70}\n",
    "fruta = input('Ingrese nombre de la fruta? ')\n",
    "if fruta in frutas_d:\n",
    "    kilos = numeroReal('Ingrese cantidad de kilos a comprar? ')\n",
    "    print(kilos, ' kilos de ', fruta, ' valen ', round(frutas_d[fruta]*kilos,2), '€')\n",
    "else:\n",
    "    print('Lo siento, la fruta ',fruta,' no está disponible.')\n"
   ]
  },
  {
   "cell_type": "code",
   "execution_count": null,
   "id": "e672e3c7",
   "metadata": {},
   "outputs": [],
   "source": [
    "# SOLUCION 3\n",
    "frutas_d = {'Platano':1.35, 'Manzana':0.80, 'Pera':0.85, 'Naranja':0.70}\n",
    "\n",
    "while True:\n",
    "      fruta = input('Ingrese nombre de la fruta? ')\n",
    "      if fruta in frutas_d:\n",
    "            break\n",
    "      else:\n",
    "            print('error: la fruta no existe')\n",
    "\n",
    "kilos = numeroReal('Ingrese cantidad de kilos a comprar? ')\n",
    "print(kilos, ' kilos de ', fruta, ' valen ', round(frutas_d[fruta]*kilos,2), '€')"
   ]
  },
  {
   "cell_type": "markdown",
   "id": "898323fc",
   "metadata": {},
   "source": [
    "### EJERCICIO 4"
   ]
  },
  {
   "cell_type": "markdown",
   "id": "10700ba3",
   "metadata": {},
   "source": [
    "<div class=text-justify>\n",
    "Escribir un programa que pregunte una fecha en formato dd/mm/aaaa y muestre por pantalla la misma fecha en formato:<br> \n",
    "28/09/2022<br>\n",
    "28 de Septiembre del 2022<br>\n",
    "Debe usar un diccionario para los meses del año.\n",
    "</div>"
   ]
  },
  {
   "cell_type": "code",
   "execution_count": 1,
   "id": "6ca89e2c",
   "metadata": {},
   "outputs": [
    {
     "name": "stdout",
     "output_type": "stream",
     "text": [
      "indique la fecha en formato dd/mm/aaaa? 28/09/2022\n",
      "estamos a dia  28  del mes de  septiembre  del año  2022\n"
     ]
    }
   ],
   "source": [
    "# SOLUCION STEVEN\n",
    "#meses_d = {1:'Enero',2:'Febrero',3:'Marzo',4:'Abril',5:'Mayo',6:'Junio',7:'Julio',8:'Agosto',9:'Septiembre',10:'Octubre',11:'Noviembre',12:'Diciembre'}\n",
    "\n",
    "meses_d = {'01': 'enero','02':'febrero','03':'marzo','04':'abril','05':'mayo','06':'junio','07':'julio','09':'septiembre','10':'octubre','11':'noviembre','12':'diciembre'}\n",
    "fecha = input('indique la fecha en formato dd/mm/aaaa? ')\n",
    "mes = fecha.split('/')\n",
    "for m in meses_d:\n",
    "    if mes[1] == m:\n",
    "       print('estamos a dia ',mes[0],' del mes de ', meses_d[m], ' del año ',mes[2])\n",
    "\n",
    "\n",
    "\n",
    "\n",
    "\n",
    "\n"
   ]
  },
  {
   "cell_type": "code",
   "execution_count": null,
   "id": "a8e6fcc9",
   "metadata": {},
   "outputs": [],
   "source": [
    "import re \n",
    "def validarfecha():\n",
    "    patron = '([0-9]{2})\\/([0-9]{2})\\/([0-9]{4})'\n",
    "    while True:\n",
    "        fecha = input('ingrese fecha en formato dd/mm/aaaa')\n",
    "        correcto = re.fullmatch(patron,fecha)\n",
    "        if not correcto:\n",
    "            print('error vuelva a ingresar la fecha')\n",
    "        if correcto:\n",
    "            f = fecha.split('/')\n",
    "            if int(f[0])<32 and int(f[1])<13:\n",
    "                break\n",
    "    return fecha\n",
    "\n",
    "\n",
    "fecha = validarfecha()\n",
    "mes = fecha.split('/')\n",
    "meses_d = {'01': 'enero','02':'febrero','03':'marzo','04':'abril','05':'mayo','06':'junio','07':'julio','09':'septiembre','10':'octubre','11':'noviembre','12':'diciembre'}\n",
    "m = \"\"\n",
    "for m in meses_d:\n",
    "    if mes[1] == m:\n",
    "       print('estamos a dia ',mes[0],' del mes de ', meses_d[m], ' del año ',mes[2])\n"
   ]
  },
  {
   "cell_type": "markdown",
   "id": "cc938ff1",
   "metadata": {},
   "source": [
    "### EJERCICION 5"
   ]
  },
  {
   "cell_type": "markdown",
   "id": "872288e5",
   "metadata": {},
   "source": [
    "<div class=text-justify>\n",
    "Escribir un programa que almacene el diccionario con los créditos de las asignaturas de un curso {'Matemáticas': 6, 'Física': 4, 'Química': 5} y después muestre por pantalla los créditos de cada asignatura en el formato <asignatura> tiene <créditos> créditos, donde <asignatura> es cada una de las asignaturas del curso, y <créditos> son sus créditos. Al final debe mostrar también el número total de créditos del curso.\n",
    "</div>"
   ]
  },
  {
   "cell_type": "code",
   "execution_count": 6,
   "id": "2b37c819",
   "metadata": {},
   "outputs": [
    {
     "name": "stdout",
     "output_type": "stream",
     "text": [
      "Matemáticas  tiene  6  creditos.\n",
      "Física  tiene  4  creditos.\n",
      "Química  tiene  5  creditos.\n",
      "Total de creditos del curso academico:  15\n"
     ]
    }
   ],
   "source": [
    "asignaturas_d = {'Matemáticas': 6, 'Física': 4, 'Química': 5}\n",
    "total = 0\n",
    "for k,v in asignaturas_d.items():\n",
    "    print(k, ' tiene ',v,' creditos.')\n",
    "    total = total + v\n",
    "print('Total de creditos del curso academico: ', total)\n",
    "\n"
   ]
  },
  {
   "cell_type": "markdown",
   "id": "c13685d2",
   "metadata": {},
   "source": [
    "\n",
    "### LIBRERIA"
   ]
  },
  {
   "cell_type": "code",
   "execution_count": null,
   "id": "51815a3e",
   "metadata": {},
   "outputs": [],
   "source": [
    "import re\n",
    "\n",
    "def numeroEntero(mensaje): \n",
    "    patron = '[0-9]+'\n",
    "    while True:\n",
    "          cadena = input(mensaje)\n",
    "          correcto = re.fullmatch(patron,cadena)\n",
    "          if not correcto:\n",
    "             print(\"Error: Vuelva a ingresar el dato\")\n",
    "          else:\n",
    "             break\n",
    "    return int(cadena)\n",
    "\n",
    "def numeroReal(mensaje): # 3434 o 234.24\n",
    "    patron = '[0-9]+||[0-9]+\\.[0-9]{1,2}'\n",
    "    while True:\n",
    "          cadena = input(mensaje)\n",
    "          correcto = re.fullmatch(patron,cadena)\n",
    "          if not correcto:\n",
    "             print(\"Error: Vuelva a ingresar el dato\")\n",
    "          else:\n",
    "             break\n",
    "    return float(cadena)\n",
    "\n",
    "'''\n",
    "def fecha(mensaje): # 3434 o 234.24\n",
    "    patron = r\"(\\d{1,2}/\\d[01-12]{1,2}/\\d{4})\"\n",
    "    while True:\n",
    "          cadena = input(mensaje)\n",
    "          correcto = re.fullmatch(patron,cadena)\n",
    "          if not correcto:\n",
    "             print(\"Error: Vuelva a ingresar el dato\")\n",
    "          else:\n",
    "             break\n",
    "    return float(cadena)\n",
    "'''"
   ]
  },
  {
   "cell_type": "code",
   "execution_count": 2,
   "id": "168f419f",
   "metadata": {},
   "outputs": [
    {
     "name": "stdout",
     "output_type": "stream",
     "text": [
      "ingrese fecha en formato dd/mm/aaaa28/09/2022\n",
      "estamos a dia  28  del mes de  septiembre  del año  2022\n"
     ]
    }
   ],
   "source": []
  },
  {
   "cell_type": "code",
   "execution_count": null,
   "id": "61951749",
   "metadata": {},
   "outputs": [],
   "source": []
  }
 ],
 "metadata": {
  "kernelspec": {
   "display_name": "Python 3 (ipykernel)",
   "language": "python",
   "name": "python3"
  },
  "language_info": {
   "codemirror_mode": {
    "name": "ipython",
    "version": 3
   },
   "file_extension": ".py",
   "mimetype": "text/x-python",
   "name": "python",
   "nbconvert_exporter": "python",
   "pygments_lexer": "ipython3",
   "version": "3.9.12"
  }
 },
 "nbformat": 4,
 "nbformat_minor": 5
}
