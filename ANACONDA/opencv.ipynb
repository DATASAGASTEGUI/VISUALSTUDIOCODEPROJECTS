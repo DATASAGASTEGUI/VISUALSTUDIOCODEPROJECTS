{
 "cells": [
  {
   "cell_type": "markdown",
   "id": "27bb475a",
   "metadata": {},
   "source": [
    "<center><span style=\"color:red; font-size:30px\">OPENCV</span></center>"
   ]
  },
  {
   "cell_type": "markdown",
   "id": "163130cd",
   "metadata": {},
   "source": [
    "<div class=text-justify>\n",
    "<ol>\n",
    "<li>Importar la libreria opencv</li>\n",
    "import cv2\n",
    "\n",
    "<li>Ruta realtiva o absoluta del archivo que contiene la imagen</li>\n",
    "img = cv2.imread('imagen/letra_color.bmp')\n",
    "\n",
    "<li>Carga una imagen en color. Se descuidará cualquier transparencia de la imagen. Es la bandera predeterminada.</li>\n",
    "cv2.IMREAD_COLOR\n",
    "    \n",
    "<li>Carga la imagen en modo escala de grises.</li>\n",
    "cv2.IMREAD_GRAYSCALE\n",
    "    \n",
    "<li>Carga la imagen como tal, incluido el canal alfa.</li>  \n",
    "cv2.IMREAD_UNCHANGED: \n",
    "\n",
    "<li>'Imagen Color' es el nombre de la ventana donde se muestra la imagen, img es la imagen que se mostrará en la ventana.</li>\n",
    "cv2.imshow('Imagen Color',img)\n",
    "\n",
    "<li>Espera hasta que se presiona una tecla</li>\n",
    "cv2.waitKey(0) \n",
    "\n",
    "<li>Destruye la ventana que muestra la imagen</li>\n",
    "cv2.destroyAllWindows()\n",
    "</ol>\n",
    "</div><br>\n",
    "\n",
    "<img src=\"imagen/1.jpg\" align=\"right\" style=\"float\">"
   ]
  },
  {
   "cell_type": "code",
   "execution_count": null,
   "id": "746043c1",
   "metadata": {},
   "outputs": [],
   "source": [
    "import cv2\n",
    "\n",
    "img = cv2.imread('imagen/letra_blanco_negro.bmp',cv2.IMREAD_UNCHANGED)\n",
    "cv2.imshow('Imagen Blanco Negro',img)\n",
    "print(img)\n",
    "cv2.waitkey(0)\n",
    "cv2.destroyAllWindows()"
   ]
  },
  {
   "cell_type": "code",
   "execution_count": null,
   "id": "ffb04ddd",
   "metadata": {},
   "outputs": [],
   "source": [
    "import cv2\n",
    "\n",
    "img = cv2.imread('imagen/letra_gris.bmp',cv2.IMREAD_GRAYSCALE)\n",
    "cv2.imshow('Imagen Gris',img)\n",
    "print(img)\n",
    "cv2.waitkey(0)\n",
    "cv2.destroyAllWindows()"
   ]
  },
  {
   "cell_type": "code",
   "execution_count": null,
   "id": "9d2601d1",
   "metadata": {},
   "outputs": [],
   "source": [
    "import cv2\n",
    "\n",
    "img = cv2.imread('imagen/letra_color.bmp',cv2.IMREAD_COLOR)\n",
    "\n",
    "imagenR = img[:,:,2]\n",
    "imagenG = img[:,:,1]\n",
    "imagenB = img[:,:,0]\n",
    "\n",
    "print('R', imagenR)\n",
    "print('G', imagenG)\n",
    "print('B', imagenB)\n",
    "\n",
    "\n",
    "\n",
    "#cv2.imshow('Imagen Gris',img)\n",
    "\n",
    "\n",
    "\n",
    "\n",
    "cv2.waitkey(0)\n",
    "cv2.destroyAllWindows()"
   ]
  },
  {
   "cell_type": "code",
   "execution_count": 1,
   "id": "feb70bc9",
   "metadata": {},
   "outputs": [
    {
     "ename": "AttributeError",
     "evalue": "module 'cv2' has no attribute 'waitkey'",
     "output_type": "error",
     "traceback": [
      "\u001b[1;31m---------------------------------------------------------------------------\u001b[0m",
      "\u001b[1;31mAttributeError\u001b[0m                            Traceback (most recent call last)",
      "Input \u001b[1;32mIn [1]\u001b[0m, in \u001b[0;36m<cell line: 16>\u001b[1;34m()\u001b[0m\n\u001b[0;32m     12\u001b[0m cv2\u001b[38;5;241m.\u001b[39mnamedWindow(\u001b[38;5;124m'\u001b[39m\u001b[38;5;124mR\u001b[39m\u001b[38;5;124m'\u001b[39m, cv2\u001b[38;5;241m.\u001b[39mWINDOW_AUTOSIZE)\n\u001b[0;32m     14\u001b[0m cv2\u001b[38;5;241m.\u001b[39mimshow(\u001b[38;5;124m'\u001b[39m\u001b[38;5;124mR\u001b[39m\u001b[38;5;124m'\u001b[39m,imagenR)\n\u001b[1;32m---> 16\u001b[0m \u001b[43mcv2\u001b[49m\u001b[38;5;241;43m.\u001b[39;49m\u001b[43mwaitkey\u001b[49m(\u001b[38;5;241m0\u001b[39m)\n\u001b[0;32m     17\u001b[0m cv2\u001b[38;5;241m.\u001b[39mdestroyAllWindows()\n",
      "\u001b[1;31mAttributeError\u001b[0m: module 'cv2' has no attribute 'waitkey'"
     ]
    }
   ],
   "source": [
    "import cv2\n",
    "import numpy as np\n",
    "\n",
    "img = cv2.imread('imagen/nose.jpg',cv2.IMREAD_COLOR)\n",
    "\n",
    "imagenR = np.copy(img)\n",
    "\n",
    "\n",
    "imagenR[:,:,1] = 0\n",
    "imagenR[:,:,0] = 0\n",
    "\n",
    "cv2.namedWindow('R', cv2.WINDOW_AUTOSIZE)\n",
    "\n",
    "cv2.imshow('R',imagenR)\n",
    "\n",
    "cv2.waitkey(0)\n",
    "cv2.destroyAllWindows()\n",
    "\n"
   ]
  },
  {
   "cell_type": "code",
   "execution_count": 1,
   "id": "bfbfee34",
   "metadata": {},
   "outputs": [
    {
     "data": {
      "text/plain": [
       "'C:\\\\Users\\\\RYZEN\\\\Documents\\\\NetBeansProjects\\\\INICIOJAVA\\\\PYTHON\\\\NOTEBOOK-JUPYTER'"
      ]
     },
     "execution_count": 1,
     "metadata": {},
     "output_type": "execute_result"
    }
   ],
   "source": [
    "pwd\n"
   ]
  },
  {
   "cell_type": "code",
   "execution_count": null,
   "id": "3836ed27",
   "metadata": {},
   "outputs": [],
   "source": []
  }
 ],
 "metadata": {
  "kernelspec": {
   "display_name": "Python 3 (ipykernel)",
   "language": "python",
   "name": "python3"
  },
  "language_info": {
   "codemirror_mode": {
    "name": "ipython",
    "version": 3
   },
   "file_extension": ".py",
   "mimetype": "text/x-python",
   "name": "python",
   "nbconvert_exporter": "python",
   "pygments_lexer": "ipython3",
   "version": "3.9.12"
  }
 },
 "nbformat": 4,
 "nbformat_minor": 5
}
