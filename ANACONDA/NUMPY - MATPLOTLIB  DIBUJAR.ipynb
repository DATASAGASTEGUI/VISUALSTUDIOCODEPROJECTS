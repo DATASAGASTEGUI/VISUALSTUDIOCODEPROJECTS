{
 "cells": [
  {
   "cell_type": "markdown",
   "id": "e91190c2",
   "metadata": {},
   "source": [
    "<center><font color=red>\n",
    "    <h1>NUMPY</h1>\n",
    "</font>\n",
    "</center>"
   ]
  },
  {
   "cell_type": "markdown",
   "id": "61467dee",
   "metadata": {},
   "source": [
    "### CREAR UNA MATRIZ"
   ]
  },
  {
   "cell_type": "code",
   "execution_count": 12,
   "id": "7088c075",
   "metadata": {},
   "outputs": [
    {
     "name": "stdout",
     "output_type": "stream",
     "text": [
      "Matriz Enteros:  [[0 0 0]\n",
      " [0 0 0]]\n",
      "Matriz Reales :  [[0. 0. 0.]\n",
      " [0. 0. 0.]]\n",
      "Matriz Cadenas:  [['' '' '']\n",
      " ['' '' '']]\n",
      "Matriz Lógico :  [[False False False]\n",
      " [False False False]]\n"
     ]
    }
   ],
   "source": [
    "import numpy as np\n",
    "\n",
    "matriz_int = np.full((2,3), 0, int)\n",
    "matriz_float = np.full((2,3), 0.0, float)\n",
    "matriz_str = np.full((2,3), '', str)\n",
    "matriz_bool = np.full((2,3), False, bool)\n",
    "\n",
    "print('Matriz Enteros: ',matriz_int)\n",
    "print('Matriz Reales : ',matriz_float)\n",
    "print('Matriz Cadenas: ',matriz_str)\n",
    "print('Matriz Lógico : ',matriz_bool)\n",
    "\n"
   ]
  },
  {
   "cell_type": "markdown",
   "id": "7dbacab5",
   "metadata": {},
   "source": [
    "### RECORRER UNA MATRIZ"
   ]
  },
  {
   "cell_type": "code",
   "execution_count": null,
   "id": "6ec03671",
   "metadata": {},
   "outputs": [],
   "source": [
    "import numpy as np\n",
    "\n",
    "matriz_int = np.full((5,6), 0, int)\n",
    "\n",
    "dimension = matriz_int.shape\n",
    "\n",
    "nf = dimension[0]\n",
    "nc = dimension[1]\n",
    "\n",
    "for i in range(nf):\n",
    "    for j in range(nc):\n",
    "        print(matriz_int[i][j],end='  ')\n",
    "    print()\n"
   ]
  },
  {
   "cell_type": "markdown",
   "id": "ec6e20f5",
   "metadata": {},
   "source": [
    "### DEFINIR UNA MATRIZ DINAMICA"
   ]
  },
  {
   "cell_type": "code",
   "execution_count": 3,
   "id": "10a27328",
   "metadata": {},
   "outputs": [
    {
     "name": "stdout",
     "output_type": "stream",
     "text": [
      "Cantidad filas? 2\n",
      "Cantidad columnas? 3\n",
      "matriz_int[ 0 ][ 0 ] = Ingrese número entero? 8\n",
      "matriz_int[ 0 ][ 1 ] = Ingrese número entero? 9\n",
      "matriz_int[ 0 ][ 2 ] = Ingrese número entero? 2\n",
      "matriz_int[ 1 ][ 0 ] = Ingrese número entero? 4\n",
      "matriz_int[ 1 ][ 1 ] = Ingrese número entero? 5\n",
      "matriz_int[ 1 ][ 2 ] = Ingrese número entero? 1\n",
      "8  9  2  \n",
      "4  5  1  \n"
     ]
    }
   ],
   "source": [
    "import numpy as np\n",
    "\n",
    "\n",
    "def mostrar(matriz_int):\n",
    "    dimension = matriz_int.shape\n",
    "    nf = dimension[0]\n",
    "    nc = dimension[1]\n",
    "    for i in range(nf):\n",
    "        for j in range(nc):\n",
    "            print(matriz_int[i][j],end='  ')\n",
    "        print()\n",
    "    \n",
    "\n",
    "def entrada():\n",
    "    nf = numeroEntero('Cantidad filas? ')\n",
    "    nc = numeroEntero('Cantidad columnas? ')\n",
    "\n",
    "    matriz_int = np.full((nf,nc), 0, int)\n",
    "\n",
    "    for i in range(nf):\n",
    "        for j in range(nc):\n",
    "            print('matriz_int[',i,'][',j,'] = ', end='')\n",
    "            matriz_int[i][j] = numeroEntero('Ingrese número entero? ')\n",
    "            \n",
    "    mostrar(matriz_int)\n",
    "\n",
    "entrada()\n",
    "\n"
   ]
  },
  {
   "cell_type": "markdown",
   "id": "8d6f34e2",
   "metadata": {},
   "source": [
    "### VECTOR"
   ]
  },
  {
   "cell_type": "code",
   "execution_count": 11,
   "id": "f732b2a6",
   "metadata": {},
   "outputs": [
    {
     "name": "stdout",
     "output_type": "stream",
     "text": [
      "[]\n",
      "[]\n",
      "[]\n",
      "[]\n",
      "Tamaño del vector? 5\n",
      "vector_int[ 0 ] = Ingrese número entero? 8\n",
      "vector_int[ 1 ] = Ingrese número entero? 3\n",
      "vector_int[ 2 ] = Ingrese número entero? 9\n",
      "vector_int[ 3 ] = Ingrese número entero? 1\n",
      "vector_int[ 4 ] = Ingrese número entero? 6\n",
      "[8 3 9 1 6]\n"
     ]
    }
   ],
   "source": [
    "import numpy as np\n",
    "\n",
    "# DECLAR UN VECTOR\n",
    "\n",
    "vector_int = np.empty(0, dtype=int)\n",
    "vector_float = np.empty(0, float)\n",
    "vector_str = np.empty(0, str)\n",
    "vector_bool = np.empty(0, bool)\n",
    "\n",
    "print(vector_int)\n",
    "print(vector_float)\n",
    "print(vector_str)\n",
    "print(vector_bool)\n",
    "\n",
    "# lLENAR UN VECTOR DINAMICAMENTE\n",
    "\n",
    "n = numeroEntero('Tamaño del vector? ')\n",
    "\n",
    "vector_int = np.empty(n, dtype=int)\n",
    "\n",
    "for i in range(n):\n",
    "    print('vector_int[',i,'] = ',end='')\n",
    "    vector_int[i] = numeroEntero('Ingrese número entero? ')\n",
    "    \n",
    "print(vector_int)"
   ]
  },
  {
   "cell_type": "markdown",
   "id": "0ad26293",
   "metadata": {},
   "source": [
    "### LIBRERIAS"
   ]
  },
  {
   "cell_type": "code",
   "execution_count": 1,
   "id": "054dcf01",
   "metadata": {},
   "outputs": [],
   "source": [
    "import re\n",
    "\n",
    "def numeroReal(mensaje): # 3434 o 234.24\n",
    "    patron = '[0-9]+||[0-9]+\\.[0-9]{1,2}'\n",
    "    while True:\n",
    "          cadena = input(mensaje)\n",
    "          correcto = re.fullmatch(patron,cadena)\n",
    "          if not correcto:\n",
    "             print(\"Error: Vuelva a ingresar el dato\")\n",
    "          else:\n",
    "             break\n",
    "    return float(cadena)\n",
    "\n",
    "def entradaNombre(mensaje): # letras del alfabeto\n",
    "    patron = '[a-zA-ZñÑáéíóúÁÉÍÓÚ]+'\n",
    "    while True:\n",
    "          cadena = input(mensaje)\n",
    "          correcto = re.fullmatch(patron,cadena)\n",
    "          if not correcto:\n",
    "             print(\"Error: Vuelva a ingresar el dato\")\n",
    "          else:\n",
    "             break\n",
    "    return cadena\n",
    "\n",
    "def numeroEntero(mensaje): \n",
    "    patron = '[0-9]+'\n",
    "    while True:\n",
    "          cadena = input(mensaje)\n",
    "          correcto = re.fullmatch(patron,cadena)\n",
    "          if not correcto:\n",
    "             print(\"Error: Vuelva a ingresar el dato\")\n",
    "          else:\n",
    "             break\n",
    "    return int(cadena) "
   ]
  },
  {
   "cell_type": "code",
   "execution_count": null,
   "id": "3e642d80",
   "metadata": {},
   "outputs": [],
   "source": []
  }
 ],
 "metadata": {
  "kernelspec": {
   "display_name": "Python 3 (ipykernel)",
   "language": "python",
   "name": "python3"
  },
  "language_info": {
   "codemirror_mode": {
    "name": "ipython",
    "version": 3
   },
   "file_extension": ".py",
   "mimetype": "text/x-python",
   "name": "python",
   "nbconvert_exporter": "python",
   "pygments_lexer": "ipython3",
   "version": "3.9.12"
  }
 },
 "nbformat": 4,
 "nbformat_minor": 5
}
