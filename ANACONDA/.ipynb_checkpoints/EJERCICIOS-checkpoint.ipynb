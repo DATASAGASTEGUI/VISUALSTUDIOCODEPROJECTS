{
 "cells": [
  {
   "cell_type": "markdown",
   "id": "12d6481f",
   "metadata": {},
   "source": [
    "<center><span style=\"color:red; font-size:30px\">EJERCICIOS FOR</span></center>"
   ]
  },
  {
   "cell_type": "markdown",
   "id": "a55d13b4",
   "metadata": {},
   "source": [
    "<span style=\"color:blue; font-size:20px\">\n",
    "EJERCICIO 01\n",
    "</span>"
   ]
  },
  {
   "cell_type": "markdown",
   "id": "8142047c",
   "metadata": {},
   "source": [
    "<div class=text-justify>\n",
    "Escribir un programa que pida al usuario un número entero positivo mayor que 2 y muestre por pantalla si es un número primo o no.\n",
    "</div>"
   ]
  },
  {
   "cell_type": "code",
   "execution_count": null,
   "id": "24725262",
   "metadata": {},
   "outputs": [],
   "source": [
    "# JESUS\n",
    "\n",
    "def n_primo (num):\n",
    "    bandera = True\n",
    "    for n in range(2,num):\n",
    "        if num % n == 0: \n",
    "           bandera = False\n",
    "    if bandera == False:\n",
    "       print('No Primo')\n",
    "    else:\n",
    "       print('Primo')\n",
    "        \n",
    "n = numeroEnteroPositivoMayor2('Ingrese numero entero positivo mayor a 2? ') \n",
    "n_primo(n)"
   ]
  },
  {
   "cell_type": "code",
   "execution_count": null,
   "id": "e4da5c42",
   "metadata": {},
   "outputs": [],
   "source": [
    "def n_primo2(num):\n",
    "    bool = True\n",
    "    for n in range(2,num):\n",
    "        if num % n == 0:\n",
    "            print(\"Número no primo\")\n",
    "            bool = False\n",
    "            return bool\n",
    "    print('El número es primo')\n",
    "    return bool\n",
    "\n",
    "n = numeroEnteroPositivoMayor2('Ingrese numero entero positivo mayor a 2? ') \n",
    "n_primo2(n)    "
   ]
  },
  {
   "cell_type": "code",
   "execution_count": null,
   "id": "206066ce",
   "metadata": {},
   "outputs": [],
   "source": [
    "# LENA\n",
    "n = numeroEnteroPositivoMayor2(\"Ingrese un número entero positivo? \")\n",
    "print(n)\n",
    "\n",
    "divisible = 0\n",
    "for i in range(2, n):\n",
    "    if n % i == 0:\n",
    "        divisible += 1 # divisible = divisible + 1\n",
    "\n",
    "if divisible == 0:\n",
    "    print(\"El número es primo\")\n",
    "else:\n",
    "    print(\"El número no es primo\")\n"
   ]
  },
  {
   "cell_type": "markdown",
   "id": "349eeb41",
   "metadata": {},
   "source": [
    "<span style=\"color:blue; font-size:20px\">\n",
    "EJERCICIO 02\n",
    "</span>"
   ]
  },
  {
   "cell_type": "markdown",
   "id": "229b1c3f",
   "metadata": {},
   "source": [
    "<div class=text-justify>\n",
    "Dibujar un árbol de navidad de altura n, que será ingresado por teclado y será un número entero positivo. Por ejemplo, si ingresamos en n=10 el resultado será el siguiente árbol\n",
    "<br/>\n",
    "\n",
    "<pre>\n",
    "         *\n",
    "        ***\n",
    "       *****\n",
    "      *******\n",
    "     *********\n",
    "    ***********\n",
    "   *************\n",
    "  ***************\n",
    " *****************\n",
    "*******************\n",
    "</pre>"
   ]
  },
  {
   "cell_type": "code",
   "execution_count": null,
   "id": "6a1aca10",
   "metadata": {},
   "outputs": [],
   "source": [
    "n = 11\n",
    "j = 1\n",
    "#  u = a + (n-1)r\n",
    "u = 1 + (n-1)*2\n",
    "e = u // 2\n",
    "print(u)\n",
    "for i in range(1,n+1,1):\n",
    "    print(' '*e + '*'*j)\n",
    "    j = j + 2\n",
    "    e = e - 1\n",
    "    "
   ]
  },
  {
   "cell_type": "code",
   "execution_count": null,
   "id": "9a56ffd2",
   "metadata": {},
   "outputs": [],
   "source": [
    "print('a'*5)"
   ]
  },
  {
   "cell_type": "markdown",
   "id": "0166db1a",
   "metadata": {},
   "source": [
    "<span style=\"color:blue; font-size:20px\">\n",
    "EJERCICIO 03\n",
    "</span>"
   ]
  },
  {
   "cell_type": "markdown",
   "id": "eeb8c51a",
   "metadata": {},
   "source": [
    "<div class=text-justify>\n",
    "Ingresar una cadena por teclado y se mostrá en pantalla la impresión de la cadena como se muestra abajo que es un ejemplo de la cadena HolaMundo.\n",
    "</div>"
   ]
  },
  {
   "cell_type": "code",
   "execution_count": null,
   "id": "d55bc369",
   "metadata": {},
   "outputs": [],
   "source": [
    "<pre>\n",
    "H\n",
    "Ho\n",
    "Hol\n",
    "Hola\n",
    "HolaM\n",
    "HolaMu\n",
    "HolaMun\n",
    "HolaMund\n",
    "HolaMundo\n",
    "</pre>"
   ]
  },
  {
   "cell_type": "code",
   "execution_count": null,
   "id": "f1f262d1",
   "metadata": {},
   "outputs": [],
   "source": [
    "cadena = 'Sebastian'\n",
    "longitud = len(cadena) + 1\n",
    "for i in range(longitud):\n",
    "    print(cadena[0:i]) # 1, 2, 3   cadena[0:1]  cadena[0:2]   9 = 0..8"
   ]
  },
  {
   "cell_type": "markdown",
   "id": "24b0e421",
   "metadata": {},
   "source": [
    "<span style=\"color:blue; font-size:20px\">\n",
    "LIBRERIA\n",
    "</span>"
   ]
  },
  {
   "cell_type": "code",
   "execution_count": 1,
   "id": "ec26f89c",
   "metadata": {},
   "outputs": [],
   "source": [
    "import re\n",
    "def numeroEnteroPositivoMayor2(mensaje): \n",
    "    patron = '[0-9]+'\n",
    "    while True:\n",
    "          cadena = input(mensaje)\n",
    "          correcto = bool(re.fullmatch(patron,cadena)) and int(cadena) > 2\n",
    "          if not correcto:\n",
    "             print(\"Error: Vuelva a ingresar el dato\")\n",
    "          else:\n",
    "             break\n",
    "    return int(cadena)\n",
    "\n",
    "def numeroEntero(mensaje): \n",
    "    #patron = '-[0-9]+'\n",
    "    patron = \"-[0-9]+||[0-9]+\"\n",
    "    while True:\n",
    "          cadena = input(mensaje)\n",
    "          correcto = re.fullmatch(patron,cadena)\n",
    "          if not correcto:\n",
    "             print(\"Error: Vuelva a ingresar el dato\")\n",
    "          else:\n",
    "             break\n",
    "    return int(cadena) "
   ]
  },
  {
   "cell_type": "markdown",
   "id": "80c87f5c",
   "metadata": {},
   "source": [
    "<span style=\"color:blue; font-size:20px\">\n",
    "EJERCICIO 04\n",
    "</span>"
   ]
  },
  {
   "cell_type": "code",
   "execution_count": null,
   "id": "d9f829ef",
   "metadata": {
    "scrolled": false
   },
   "outputs": [],
   "source": [
    "# Obtener los primeros 100 números primos\n",
    "\n",
    "def n_primo (num):\n",
    "    bandera = True\n",
    "    for n in range(2,num):\n",
    "        if num % n == 0: \n",
    "           bandera = False\n",
    "    if bandera == False:\n",
    "       return False\n",
    "    else:\n",
    "       return True\n",
    "\n",
    "for x in range(2,1001,1):\n",
    "    y = n_primo(x)\n",
    "    if y:\n",
    "       print('%4d' % (x), end=' ')\n",
    "    \n",
    "\n",
    "    \n",
    "    \n",
    "    "
   ]
  },
  {
   "cell_type": "markdown",
   "id": "a81c36d0",
   "metadata": {},
   "source": [
    "<span style=\"color:blue; font-size:20px\">\n",
    "EJERCICIO 05\n",
    "</span>"
   ]
  },
  {
   "cell_type": "code",
   "execution_count": 2,
   "id": "1ffa2efa",
   "metadata": {},
   "outputs": [
    {
     "name": "stdout",
     "output_type": "stream",
     "text": [
      "Ingrese número decimal? 255\n",
      "Equivalente binario:  [1, 1, 1, 1, 1, 1, 1, 1]\n"
     ]
    }
   ],
   "source": [
    "# Convertir un número decimal a binario\n",
    "\n",
    "n = numeroEntero('Ingrese número decimal? ')\n",
    "lista = []\n",
    "\n",
    "while True:\n",
    "    c = n // 2\n",
    "    r = n % 2\n",
    "    lista.append(r)\n",
    "    if n < 2:\n",
    "       break\n",
    "    n = c\n",
    "print('Equivalente binario: ',lista[::-1])\n",
    "\n"
   ]
  },
  {
   "cell_type": "markdown",
   "id": "3859c90e",
   "metadata": {},
   "source": [
    "<span style=\"color:blue; font-size:20px\">\n",
    "EJERCICIO 06\n",
    "</span>"
   ]
  },
  {
   "cell_type": "code",
   "execution_count": 4,
   "id": "db4733c6",
   "metadata": {},
   "outputs": [
    {
     "name": "stdout",
     "output_type": "stream",
     "text": [
      "INGRESE NUMERO 1?2\n",
      "INGRESE NUMERO 2?14\n",
      "14  es multiplo de  2\n"
     ]
    }
   ],
   "source": [
    "# Escriba un programa que pida \n",
    "# dos números enteros y que escriba si el mayor es múltiplo del menor.\n",
    "import os\n",
    "os.system('cls')\n",
    "\n",
    "n1 = int(input('INGRESE NUMERO 1?'))\n",
    "n2 = int(input('INGRESE NUMERO 2?'))\n",
    "\n",
    "if n1 > n2:\n",
    "    if n1%n2 == 0:\n",
    "        print(n1,' es multiplo de ',n2)\n",
    "    else:\n",
    "        print(n1,' no es multiplo de ',n2)\n",
    "if n2 > n1:\n",
    "    if n2%n1 == 0:\n",
    "        print(n2,' es multiplo de ',n1)\n",
    "    else:\n",
    "        print(n2,' no es multiplo de ',n1)\n"
   ]
  },
  {
   "cell_type": "markdown",
   "id": "5b1f6e21",
   "metadata": {},
   "source": [
    "<span style=\"color:blue; font-size:20px\">\n",
    "EJERCICIO 07\n",
    "</span>"
   ]
  },
  {
   "cell_type": "code",
   "execution_count": null,
   "id": "23b3317e",
   "metadata": {},
   "outputs": [],
   "source": [
    "# De dos listas de coordenadas cartesianas que luego serán procesadas para\n",
    "# obtener otras 2 listas con sus coordenadas polares.\n",
    "//ENTRADA\n",
    "x = [2, 4, 5, 8, 9]\n",
    "y = [8, 9, 12, 7, 5]\n",
    "//SALIDA\n",
    "angulo =\n",
    "radio  =\n",
    "\n",
    " angulo = round(math.atan(y/x) * 180 / math.pi,2)\n",
    "radio =   math.sqrt(x**2 + y**2)\n",
    "\n"
   ]
  },
  {
   "cell_type": "code",
   "execution_count": 10,
   "id": "c579d813",
   "metadata": {},
   "outputs": [
    {
     "name": "stdout",
     "output_type": "stream",
     "text": [
      "[75.96, 66.04, 67.38, 41.19, 29.05]\n",
      "[8, 10, 13, 11, 10]\n"
     ]
    },
    {
     "data": {
      "text/html": [
       "<div>\n",
       "<style scoped>\n",
       "    .dataframe tbody tr th:only-of-type {\n",
       "        vertical-align: middle;\n",
       "    }\n",
       "\n",
       "    .dataframe tbody tr th {\n",
       "        vertical-align: top;\n",
       "    }\n",
       "\n",
       "    .dataframe thead th {\n",
       "        text-align: right;\n",
       "    }\n",
       "</style>\n",
       "<table border=\"1\" class=\"dataframe\">\n",
       "  <thead>\n",
       "    <tr style=\"text-align: right;\">\n",
       "      <th></th>\n",
       "      <th>X</th>\n",
       "      <th>Y</th>\n",
       "      <th>ANGULO</th>\n",
       "      <th>RADIO</th>\n",
       "    </tr>\n",
       "  </thead>\n",
       "  <tbody>\n",
       "    <tr>\n",
       "      <th>0</th>\n",
       "      <td>2</td>\n",
       "      <td>8</td>\n",
       "      <td>75.96</td>\n",
       "      <td>8</td>\n",
       "    </tr>\n",
       "    <tr>\n",
       "      <th>1</th>\n",
       "      <td>4</td>\n",
       "      <td>9</td>\n",
       "      <td>66.04</td>\n",
       "      <td>10</td>\n",
       "    </tr>\n",
       "    <tr>\n",
       "      <th>2</th>\n",
       "      <td>5</td>\n",
       "      <td>12</td>\n",
       "      <td>67.38</td>\n",
       "      <td>13</td>\n",
       "    </tr>\n",
       "    <tr>\n",
       "      <th>3</th>\n",
       "      <td>8</td>\n",
       "      <td>7</td>\n",
       "      <td>41.19</td>\n",
       "      <td>11</td>\n",
       "    </tr>\n",
       "    <tr>\n",
       "      <th>4</th>\n",
       "      <td>9</td>\n",
       "      <td>5</td>\n",
       "      <td>29.05</td>\n",
       "      <td>10</td>\n",
       "    </tr>\n",
       "  </tbody>\n",
       "</table>\n",
       "</div>"
      ],
      "text/plain": [
       "   X   Y  ANGULO  RADIO\n",
       "0  2   8   75.96      8\n",
       "1  4   9   66.04     10\n",
       "2  5  12   67.38     13\n",
       "3  8   7   41.19     11\n",
       "4  9   5   29.05     10"
      ]
     },
     "execution_count": 10,
     "metadata": {},
     "output_type": "execute_result"
    }
   ],
   "source": [
    "import math\n",
    "import pandas as pd\n",
    "\n",
    "x1 = [2,4,5,8,9]\n",
    "y2 = [8,9,12,7,5]\n",
    "\n",
    "angulo = []\n",
    "radio = []\n",
    "\n",
    "for x,y in zip(x1,y2):\n",
    "    angu = round(math.atan(y/x) * 180 / math.pi,2)\n",
    "    rad = round(math.sqrt(x**2 + y**2))\n",
    "    angulo.append(angu)\n",
    "    radio.append(rad)\n",
    "\n",
    "print(angulo)\n",
    "print(radio)\n",
    "\n",
    "cartesiana_d = {'x':x1, 'y':y2}\n",
    "polares_d = {'a':angulo, 'r':radio}\n",
    "\n",
    "datos_d = {'X':x1, 'Y':y2, 'ANGULO':angulo,'RADIO':radio}\n",
    "df = pd.DataFrame(datos_d)\n",
    "df\n",
    "\n",
    "\n",
    "\n"
   ]
  },
  {
   "cell_type": "markdown",
   "id": "b6d724ef",
   "metadata": {},
   "source": [
    "<span style=\"color:blue; font-size:20px\">\n",
    "EJERCICIO 08\n",
    "</span>"
   ]
  },
  {
   "cell_type": "code",
   "execution_count": null,
   "id": "c1a51a29",
   "metadata": {},
   "outputs": [],
   "source": [
    "Convertir binario a decimal"
   ]
  },
  {
   "cell_type": "code",
   "execution_count": 8,
   "id": "224fbddb",
   "metadata": {},
   "outputs": [
    {
     "name": "stdout",
     "output_type": "stream",
     "text": [
      "1001\n",
      "Binario:  1001\n",
      "Decimal:  9\n"
     ]
    }
   ],
   "source": [
    "# WALTER\n",
    "n = 1001  # 9 decimal\n",
    "numero_str = str(n)\n",
    "print(numero_str)\n",
    "longitud = len(numero_str) \n",
    "a = 0\n",
    "for i in range(longitud):\n",
    "    longitud = longitud - 1\n",
    "    t = int(numero_str[i]) * 2**longitud\n",
    "    a = a + t\n",
    "print('Binario: ',n)\n",
    "print('Decimal: ',a)\n",
    "\n",
    "\n",
    "\n"
   ]
  },
  {
   "cell_type": "code",
   "execution_count": 5,
   "id": "bb8f531b",
   "metadata": {},
   "outputs": [
    {
     "name": "stdout",
     "output_type": "stream",
     "text": [
      "Binario:  1001\n",
      "Decimal:  9\n"
     ]
    }
   ],
   "source": [
    "# STEVEN\n",
    "import math\n",
    "def convertirbinariodecimal():\n",
    "    n=1001\n",
    "    binario = str(n)\n",
    "    lon = len(binario) - 1 #  4 - 1 = 3\n",
    "    decimal = 0\n",
    "    for i in range(0,len(binario)):\n",
    "          decimal = int(binario[i]) * math.pow(2,lon) + decimal\n",
    "          lon = lon -1\n",
    "    print('Binario: ',n)\n",
    "    print('Decimal: ',int(decimal))\n",
    "        \n",
    "convertirbinariodecimal()\n"
   ]
  },
  {
   "cell_type": "markdown",
   "id": "a0d772f3",
   "metadata": {},
   "source": [
    "<span style=\"color:blue; font-size:20px\">\n",
    "EJERCICIO 09\n",
    "</span>"
   ]
  },
  {
   "cell_type": "code",
   "execution_count": 16,
   "id": "a6c2fba2",
   "metadata": {},
   "outputs": [
    {
     "name": "stdout",
     "output_type": "stream",
     "text": [
      "[1, 5, 5]\n",
      "[1, 5]\n",
      "<class 'range'>\n",
      "A\n"
     ]
    }
   ],
   "source": [
    "# DADO 2 LISTAS DE NUMEROS ENTEROS OBTENER LOS ELEMENTOS COMUNES DE AMBAS LISTAS\n",
    "\n",
    "int_l1 = [2,3,1,6, 5]\n",
    "int_l2 = [4,8,1,7, 5, 5]\n",
    "int_l3 = []\n",
    "\n",
    "for x in int_l1:\n",
    "    for y in int_l2:\n",
    "        if x == y:\n",
    "           int_l3.append(x)\n",
    "\n",
    "print(int_l3)\n",
    "conjunto = set(int_l3)\n",
    "lista = list(conjunto)\n",
    "print(lista)\n",
    "\n",
    "x = range(1,4,1)\n",
    "print(type(x))\n",
    "\n",
    "Y = 'HOLA'\n",
    "print(Y[3])\n",
    "\n",
    "\n",
    "\n"
   ]
  },
  {
   "cell_type": "markdown",
   "id": "3491d44d",
   "metadata": {},
   "source": [
    "TIPOS DE DATOS: int, str, float, bool, list, set, dict, range, tuple\n",
    "                    \n",
    "TIPOS DE DATOS CONJUNTO: list, set, dict, tuple, range, str "
   ]
  },
  {
   "cell_type": "code",
   "execution_count": null,
   "id": "75c454d9",
   "metadata": {},
   "outputs": [],
   "source": [
    "#### LISTAS POR COMPRENSION"
   ]
  },
  {
   "cell_type": "code",
   "execution_count": 25,
   "id": "d9eb1b9f",
   "metadata": {},
   "outputs": [
    {
     "name": "stdout",
     "output_type": "stream",
     "text": [
      "[0, 1, 2]\n",
      "[1, 3, 4]\n",
      "[8, 0, 4, 2, 4]\n",
      "[1, 0, 1, 0, 1, 0, 0, 0]\n"
     ]
    }
   ],
   "source": [
    "lista = [7, 8, 9, 0, 1, 4, 2, 4]\n",
    "\n",
    "lista1 = [x for x in lista if x<3]\n",
    "\n",
    "lista2 = ['1','3','4']\n",
    "lista3 = [int(x) for x in lista2]\n",
    "\n",
    "lista4 = [x for x in lista if x%2==0]\n",
    "\n",
    "lista5 = [0 if x%2==0 else 1 for x in lista]\n",
    "\n",
    "print(lista1)\n",
    "print(lista3)\n",
    "print(lista4)\n",
    "print(lista5)\n",
    "\n"
   ]
  },
  {
   "cell_type": "code",
   "execution_count": null,
   "id": "794f6c22",
   "metadata": {},
   "outputs": [],
   "source": []
  }
 ],
 "metadata": {
  "kernelspec": {
   "display_name": "Python 3 (ipykernel)",
   "language": "python",
   "name": "python3"
  },
  "language_info": {
   "codemirror_mode": {
    "name": "ipython",
    "version": 3
   },
   "file_extension": ".py",
   "mimetype": "text/x-python",
   "name": "python",
   "nbconvert_exporter": "python",
   "pygments_lexer": "ipython3",
   "version": "3.11.5"
  }
 },
 "nbformat": 4,
 "nbformat_minor": 5
}
