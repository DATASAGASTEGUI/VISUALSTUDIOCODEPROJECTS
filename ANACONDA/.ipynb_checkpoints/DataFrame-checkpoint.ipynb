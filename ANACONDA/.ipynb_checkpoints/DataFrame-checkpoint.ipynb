{
 "cells": [
  {
   "cell_type": "markdown",
   "id": "937e7a79",
   "metadata": {},
   "source": [
    "<center><span style='color:red'; font-size:30px>DATAFRAME</span></center>"
   ]
  },
  {
   "cell_type": "markdown",
   "id": "91d796ad",
   "metadata": {},
   "source": [
    "<div class=text-justify>\n",
    "DataFrame es una estructura de datos 2D. El marco de datos se utiliza para representar datos en formato tabular en filas y columnas. Es como una hoja de cálculo o una tabla sql. DataFrame es un objeto Pandas.<br/><br/>\n",
    "\n",
    "Para crear un marco de datos, necesitamos importar pandas. El DataFrame se puede crear usando la función DataFrame(). El DataFrame() toma uno o dos parámetros. El primero son los datos. Los datos pueden estar en forma de lista de listas o diccionario de listas. En el caso de datos de lista de listas, el segundo parámetro es el nombre de las columnas.\n",
    "</div>"
   ]
  },
  {
   "cell_type": "markdown",
   "id": "f41fa3c6",
   "metadata": {},
   "source": [
    "#### CREAR UN DATAFRAME DE UN DICCIONARIO DE LISTAS"
   ]
  },
  {
   "cell_type": "code",
   "execution_count": 4,
   "id": "20a8a590",
   "metadata": {},
   "outputs": [
    {
     "name": "stdout",
     "output_type": "stream",
     "text": [
      "   Nombre  Edad\n",
      "0    Luis    23\n",
      "1  Carlos    22\n",
      "2  Carmen    21\n"
     ]
    }
   ],
   "source": [
    "import pandas as pd\n",
    "\n",
    "datos_d = {'Nombre':['Luis','Carlos','Carmen'], 'Edad':[23,22,21]}\n",
    "\n",
    "df = pd.DataFrame(datos_d)\n",
    "\n",
    "print(df)\n",
    "\n"
   ]
  },
  {
   "cell_type": "code",
   "execution_count": 7,
   "id": "20e1e669",
   "metadata": {},
   "outputs": [
    {
     "data": {
      "text/html": [
       "<div>\n",
       "<style scoped>\n",
       "    .dataframe tbody tr th:only-of-type {\n",
       "        vertical-align: middle;\n",
       "    }\n",
       "\n",
       "    .dataframe tbody tr th {\n",
       "        vertical-align: top;\n",
       "    }\n",
       "\n",
       "    .dataframe thead th {\n",
       "        text-align: right;\n",
       "    }\n",
       "</style>\n",
       "<table border=\"1\" class=\"dataframe\">\n",
       "  <thead>\n",
       "    <tr style=\"text-align: right;\">\n",
       "      <th></th>\n",
       "      <th>B</th>\n",
       "      <th>W</th>\n",
       "      <th>R</th>\n",
       "      <th>G</th>\n",
       "    </tr>\n",
       "  </thead>\n",
       "  <tbody>\n",
       "    <tr>\n",
       "      <th>Color</th>\n",
       "      <td>Black</td>\n",
       "      <td>White</td>\n",
       "      <td>Red</td>\n",
       "      <td>Green</td>\n",
       "    </tr>\n",
       "  </tbody>\n",
       "</table>\n",
       "</div>"
      ],
      "text/plain": [
       "           B      W    R      G\n",
       "Color  Black  White  Red  Green"
      ]
     },
     "execution_count": 7,
     "metadata": {},
     "output_type": "execute_result"
    }
   ],
   "source": [
    "import pandas as pd\n",
    "\n",
    "datos_d = {'B':'Black', 'W':'White', 'R':'Red','G':'Green'}\n",
    "\n",
    "df = pd.DataFrame(datos_d,index=['Color'])\n",
    "\n",
    "df"
   ]
  },
  {
   "cell_type": "markdown",
   "id": "59e32b9f",
   "metadata": {},
   "source": [
    "#### CREAR UN DATAFRAME A PARTIR DE UNA LISTA DE LISTAS(MATRIZ)"
   ]
  },
  {
   "cell_type": "code",
   "execution_count": 8,
   "id": "9d887b2c",
   "metadata": {},
   "outputs": [
    {
     "name": "stdout",
     "output_type": "stream",
     "text": [
      "  IdAlumno  Nombre  Edad\n",
      "0       A1    Luis    23\n",
      "1       A2  Carmen    21\n",
      "2       A3  Miguel    20\n"
     ]
    }
   ],
   "source": [
    "import pandas as pd\n",
    "\n",
    "datos_m = [['A1','Luis',23],['A2','Carmen',21],['A3','Miguel',20]]\n",
    "\n",
    "df = pd.DataFrame(datos_m, columns=['IdAlumno','Nombre','Edad'])\n",
    "\n",
    "print(df)"
   ]
  },
  {
   "cell_type": "markdown",
   "id": "cd79fc1c",
   "metadata": {},
   "source": [
    "#### CREAR UN DATAFRAME A PARTIR DE UNA LISTA"
   ]
  },
  {
   "cell_type": "code",
   "execution_count": 9,
   "id": "0f34a01a",
   "metadata": {},
   "outputs": [
    {
     "name": "stdout",
     "output_type": "stream",
     "text": [
      "   Numero\n",
      "0       8\n",
      "1       9\n",
      "2       1\n",
      "3       4\n",
      "4       5\n"
     ]
    }
   ],
   "source": [
    "import pandas as pd\n",
    "\n",
    "datos_l = [8,9,1,4,5]\n",
    "\n",
    "df = pd.DataFrame(datos_l, columns=['Numero'])\n",
    "\n",
    "print(df)"
   ]
  },
  {
   "cell_type": "markdown",
   "id": "9f5fd8e3",
   "metadata": {},
   "source": [
    "#### CREAR UN DATAFRAME A PARTIR DE UNA CADENA"
   ]
  },
  {
   "cell_type": "code",
   "execution_count": 10,
   "id": "15ac3af6",
   "metadata": {},
   "outputs": [
    {
     "name": "stdout",
     "output_type": "stream",
     "text": [
      "   Alfabeto\n",
      "0         A\n",
      "1         B\n",
      "2         C\n",
      "3         D\n",
      "4         E\n",
      "5         F\n",
      "6         G\n",
      "7         H\n",
      "8         I\n",
      "9         J\n",
      "10        K\n",
      "11        L\n",
      "12        M\n",
      "13        N\n",
      "14        Ñ\n",
      "15        O\n",
      "16        P\n",
      "17        Q\n",
      "18        R\n",
      "19        S\n",
      "20        T\n",
      "21        U\n",
      "22        V\n",
      "23        W\n",
      "24        X\n",
      "25        Y\n",
      "26        Z\n"
     ]
    }
   ],
   "source": [
    "cadena = 'ABCDEFGHIJKLMNÑOPQRSTUVWXYZ'\n",
    "\n",
    "datos_l = list(cadena)\n",
    "\n",
    "df = pd.DataFrame(datos_l, columns=['Alfabeto'])\n",
    "\n",
    "print(df)\n",
    " "
   ]
  },
  {
   "cell_type": "markdown",
   "id": "1db0cbd4",
   "metadata": {},
   "source": [
    "#### CREAR UN DATAFRAME A PARITR DE UNA LISTA DE TUPLAS"
   ]
  },
  {
   "cell_type": "code",
   "execution_count": 13,
   "id": "43f01038",
   "metadata": {},
   "outputs": [
    {
     "name": "stdout",
     "output_type": "stream",
     "text": [
      "  IdAlumno  Nombre  Edad\n",
      "0       A1    Luis    23\n",
      "1       A2  Carmen    21\n",
      "2       A3  Miguel    20\n"
     ]
    },
    {
     "data": {
      "text/html": [
       "<div>\n",
       "<style scoped>\n",
       "    .dataframe tbody tr th:only-of-type {\n",
       "        vertical-align: middle;\n",
       "    }\n",
       "\n",
       "    .dataframe tbody tr th {\n",
       "        vertical-align: top;\n",
       "    }\n",
       "\n",
       "    .dataframe thead th {\n",
       "        text-align: right;\n",
       "    }\n",
       "</style>\n",
       "<table border=\"1\" class=\"dataframe\">\n",
       "  <thead>\n",
       "    <tr style=\"text-align: right;\">\n",
       "      <th></th>\n",
       "      <th>IdAlumno</th>\n",
       "      <th>Nombre</th>\n",
       "      <th>Edad</th>\n",
       "    </tr>\n",
       "  </thead>\n",
       "  <tbody>\n",
       "    <tr>\n",
       "      <th>0</th>\n",
       "      <td>A1</td>\n",
       "      <td>Luis</td>\n",
       "      <td>23</td>\n",
       "    </tr>\n",
       "    <tr>\n",
       "      <th>1</th>\n",
       "      <td>A2</td>\n",
       "      <td>Carmen</td>\n",
       "      <td>21</td>\n",
       "    </tr>\n",
       "    <tr>\n",
       "      <th>2</th>\n",
       "      <td>A3</td>\n",
       "      <td>Miguel</td>\n",
       "      <td>20</td>\n",
       "    </tr>\n",
       "  </tbody>\n",
       "</table>\n",
       "</div>"
      ],
      "text/plain": [
       "  IdAlumno  Nombre  Edad\n",
       "0       A1    Luis    23\n",
       "1       A2  Carmen    21\n",
       "2       A3  Miguel    20"
      ]
     },
     "execution_count": 13,
     "metadata": {},
     "output_type": "execute_result"
    }
   ],
   "source": [
    "import pandas as pd\n",
    "\n",
    "datos_l = [('A1','Luis',23),('A2','Carmen',21),('A3','Miguel',20)]\n",
    "\n",
    "df = pd.DataFrame(datos_l, columns=['IdAlumno','Nombre','Edad'])\n",
    "\n",
    "print(df)\n",
    "\n",
    "df\n"
   ]
  },
  {
   "cell_type": "markdown",
   "id": "6d073083",
   "metadata": {},
   "source": [
    "#### CREAR DATAFRAME"
   ]
  },
  {
   "cell_type": "code",
   "execution_count": 24,
   "id": "ea659b1d",
   "metadata": {},
   "outputs": [
    {
     "name": "stdout",
     "output_type": "stream",
     "text": [
      "0    A1\n",
      "1    A2\n",
      "2    A3\n",
      "3    A4\n",
      "Name: IdAlumno, dtype: object\n",
      "Empty DataFrame\n",
      "Columns: [IdAlumno, Nombre, Edad]\n",
      "Index: []\n"
     ]
    }
   ],
   "source": [
    "import pandas as pd\n",
    "\n",
    "df = pd.DataFrame(\n",
    "      {\n",
    "      \"IdAlumno\":['A1','A2','A3','A4'],\n",
    "      \"Nombre\":['Luis','Miguel','Carlos','Miguel'],\n",
    "      \"Edad\":[23,22,21,24]\n",
    "      }\n",
    ")\n",
    "\n",
    "df\n",
    "\n",
    "values = [1,2]\n",
    "\n",
    "print(df['IdAlumno'])\n",
    "\n",
    "\n",
    "\n",
    "x = df[df['Edad'].isin([1,2])]\n",
    "print(x)"
   ]
  },
  {
   "cell_type": "code",
   "execution_count": null,
   "id": "a64110cb",
   "metadata": {},
   "outputs": [],
   "source": []
  }
 ],
 "metadata": {
  "kernelspec": {
   "display_name": "Python 3 (ipykernel)",
   "language": "python",
   "name": "python3"
  },
  "language_info": {
   "codemirror_mode": {
    "name": "ipython",
    "version": 3
   },
   "file_extension": ".py",
   "mimetype": "text/x-python",
   "name": "python",
   "nbconvert_exporter": "python",
   "pygments_lexer": "ipython3",
   "version": "3.11.5"
  }
 },
 "nbformat": 4,
 "nbformat_minor": 5
}
