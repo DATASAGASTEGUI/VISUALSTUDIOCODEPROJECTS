{
 "cells": [
  {
   "cell_type": "code",
   "execution_count": 2,
   "id": "321d50ca",
   "metadata": {},
   "outputs": [],
   "source": [
    "import pandas as pd"
   ]
  },
  {
   "cell_type": "markdown",
   "id": "e19e856f",
   "metadata": {},
   "source": [
    "EJEMPLO 1: CREAR UN DATAFRAME DESDE UN DICCIONARIO"
   ]
  },
  {
   "cell_type": "code",
   "execution_count": 7,
   "id": "3eb0ddf1",
   "metadata": {},
   "outputs": [
    {
     "name": "stdout",
     "output_type": "stream",
     "text": [
      "DataFrame creado desde un diccionario:\n"
     ]
    },
    {
     "data": {
      "text/html": [
       "<div>\n",
       "<style scoped>\n",
       "    .dataframe tbody tr th:only-of-type {\n",
       "        vertical-align: middle;\n",
       "    }\n",
       "\n",
       "    .dataframe tbody tr th {\n",
       "        vertical-align: top;\n",
       "    }\n",
       "\n",
       "    .dataframe thead th {\n",
       "        text-align: right;\n",
       "    }\n",
       "</style>\n",
       "<table border=\"1\" class=\"dataframe\">\n",
       "  <thead>\n",
       "    <tr style=\"text-align: right;\">\n",
       "      <th></th>\n",
       "      <th>Nombre</th>\n",
       "      <th>Edad</th>\n",
       "      <th>Ciudad</th>\n",
       "    </tr>\n",
       "  </thead>\n",
       "  <tbody>\n",
       "    <tr>\n",
       "      <th>0</th>\n",
       "      <td>Juan</td>\n",
       "      <td>25</td>\n",
       "      <td>Bogotá</td>\n",
       "    </tr>\n",
       "    <tr>\n",
       "      <th>1</th>\n",
       "      <td>María</td>\n",
       "      <td>30</td>\n",
       "      <td>Madrid</td>\n",
       "    </tr>\n",
       "    <tr>\n",
       "      <th>2</th>\n",
       "      <td>Carlos</td>\n",
       "      <td>22</td>\n",
       "      <td>México DF</td>\n",
       "    </tr>\n",
       "    <tr>\n",
       "      <th>3</th>\n",
       "      <td>Laura</td>\n",
       "      <td>28</td>\n",
       "      <td>Lima</td>\n",
       "    </tr>\n",
       "  </tbody>\n",
       "</table>\n",
       "</div>"
      ],
      "text/plain": [
       "   Nombre  Edad     Ciudad\n",
       "0    Juan    25     Bogotá\n",
       "1   María    30     Madrid\n",
       "2  Carlos    22  México DF\n",
       "3   Laura    28       Lima"
      ]
     },
     "execution_count": 7,
     "metadata": {},
     "output_type": "execute_result"
    }
   ],
   "source": [
    "data = {\n",
    "   'Nombre': ['Juan', 'María', 'Carlos', 'Laura'],\n",
    "   'Edad': [25, 30, 22, 28],\n",
    "   'Ciudad': ['Bogotá', 'Madrid', 'México DF', 'Lima']\n",
    "}\n",
    "\n",
    "df = pd.DataFrame(data)\n",
    "print(\"DataFrame creado desde un diccionario:\")\n",
    "#print(df.to_string(justify='left', index=False))\n",
    "df"
   ]
  },
  {
   "cell_type": "code",
   "execution_count": 11,
   "id": "0130d1fd",
   "metadata": {},
   "outputs": [
    {
     "name": "stdout",
     "output_type": "stream",
     "text": [
      "        T1;Lucrezia;Berroeta;1;532\n",
      "0         T2;Faith;Olmedo;4;149#10\n",
      "1        T3;Nathalie;Moncada;1;311\n",
      "2      T4;Hudson;Espinoza;3;230515\n",
      "3    T5;Katherine;Oprea;2;429#2657\n",
      "4            T6;Isidro;Rizzo;1;318\n",
      "..                             ...\n",
      "494         T496;Yann;Llobet;1;498\n",
      "495  T497;Mathieu;Arrieta;3;238193\n",
      "496   T498;Morgan;Beobide;4;121#15\n",
      "497    T499;Sara;Stoica;2;404#2743\n",
      "498    T500;Nicole;Amador;3;221081\n",
      "\n",
      "[499 rows x 1 columns]\n"
     ]
    }
   ],
   "source": [
    "ruta_archivo = 'trabajador.csv'\n",
    "\n",
    "# Lee el archivo CSV en un DataFrame\n",
    "df = pd.read_csv(ruta_archivo)\n",
    "print(df)"
   ]
  },
  {
   "cell_type": "code",
   "execution_count": 24,
   "id": "1c34dcee",
   "metadata": {},
   "outputs": [],
   "source": [
    "def ejemplo3():\n",
    "    nra = '/trabajador.csv'\n",
    "    try:\n",
    "         with open(nra, 'r') as f:\n",
    "              filas = csv.reader(f,delimiter=';')\n",
    "              filas_lst = list(filas)\n",
    "              cabecera()\n",
    "              for fila in filas_lst:\n",
    "                  idTrabajador =  fila[0] \n",
    "                  nombre = fila[1] \n",
    "                  apaterno = fila[2]\n",
    "                  tipoTrabajador = fila[3]\n",
    "                  parametrosSueldo = fila[4]\n",
    "                  cuerpo(idTrabajador,nombre,apaterno,tipoTrabajador,parametrosSueldo)\n",
    "    except:\n",
    "        print('ERROR: LECTURA')\n",
    "\n",
    "def cabecera():\n",
    "    print('%-12s %-12s %-12s %16s %-12s' % ('IDTRABAJADOR','NOMBRE','APATERNO','TIPO-TRABAJADOR','PARA-SUELDO'))\n",
    "    print('%-12s %-12s %-12s %16s %-12s' % ('------------','------','--------','---------------','-----------'))\n",
    "\n",
    "def cuerpo(idTrabajador,nombre,apaterno,tipoTrabajador,parametrosSueldo):\n",
    "    print('%-12s %-12s %-12s %16s %-12s' % (idTrabajador,nombre,apaterno,tipoTrabajador,parametrosSueldo))\n"
   ]
  },
  {
   "cell_type": "code",
   "execution_count": 25,
   "id": "c2dbf10a",
   "metadata": {},
   "outputs": [
    {
     "name": "stdout",
     "output_type": "stream",
     "text": [
      "ERROR: LECTURA\n"
     ]
    }
   ],
   "source": [
    "ejemplo3()"
   ]
  },
  {
   "cell_type": "code",
   "execution_count": 26,
   "id": "c21709f6",
   "metadata": {},
   "outputs": [
    {
     "data": {
      "text/html": [
       "<div>\n",
       "<style scoped>\n",
       "    .dataframe tbody tr th:only-of-type {\n",
       "        vertical-align: middle;\n",
       "    }\n",
       "\n",
       "    .dataframe tbody tr th {\n",
       "        vertical-align: top;\n",
       "    }\n",
       "\n",
       "    .dataframe thead th {\n",
       "        text-align: right;\n",
       "    }\n",
       "</style>\n",
       "<table border=\"1\" class=\"dataframe\">\n",
       "  <thead>\n",
       "    <tr style=\"text-align: right;\">\n",
       "      <th></th>\n",
       "      <th>T1;Lucrezia;Berroeta;1;532</th>\n",
       "    </tr>\n",
       "  </thead>\n",
       "  <tbody>\n",
       "    <tr>\n",
       "      <th>0</th>\n",
       "      <td>T2;Faith;Olmedo;4;149#10</td>\n",
       "    </tr>\n",
       "    <tr>\n",
       "      <th>1</th>\n",
       "      <td>T3;Nathalie;Moncada;1;311</td>\n",
       "    </tr>\n",
       "    <tr>\n",
       "      <th>2</th>\n",
       "      <td>T4;Hudson;Espinoza;3;230515</td>\n",
       "    </tr>\n",
       "    <tr>\n",
       "      <th>3</th>\n",
       "      <td>T5;Katherine;Oprea;2;429#2657</td>\n",
       "    </tr>\n",
       "    <tr>\n",
       "      <th>4</th>\n",
       "      <td>T6;Isidro;Rizzo;1;318</td>\n",
       "    </tr>\n",
       "    <tr>\n",
       "      <th>...</th>\n",
       "      <td>...</td>\n",
       "    </tr>\n",
       "    <tr>\n",
       "      <th>494</th>\n",
       "      <td>T496;Yann;Llobet;1;498</td>\n",
       "    </tr>\n",
       "    <tr>\n",
       "      <th>495</th>\n",
       "      <td>T497;Mathieu;Arrieta;3;238193</td>\n",
       "    </tr>\n",
       "    <tr>\n",
       "      <th>496</th>\n",
       "      <td>T498;Morgan;Beobide;4;121#15</td>\n",
       "    </tr>\n",
       "    <tr>\n",
       "      <th>497</th>\n",
       "      <td>T499;Sara;Stoica;2;404#2743</td>\n",
       "    </tr>\n",
       "    <tr>\n",
       "      <th>498</th>\n",
       "      <td>T500;Nicole;Amador;3;221081</td>\n",
       "    </tr>\n",
       "  </tbody>\n",
       "</table>\n",
       "<p>499 rows × 1 columns</p>\n",
       "</div>"
      ],
      "text/plain": [
       "        T1;Lucrezia;Berroeta;1;532\n",
       "0         T2;Faith;Olmedo;4;149#10\n",
       "1        T3;Nathalie;Moncada;1;311\n",
       "2      T4;Hudson;Espinoza;3;230515\n",
       "3    T5;Katherine;Oprea;2;429#2657\n",
       "4            T6;Isidro;Rizzo;1;318\n",
       "..                             ...\n",
       "494         T496;Yann;Llobet;1;498\n",
       "495  T497;Mathieu;Arrieta;3;238193\n",
       "496   T498;Morgan;Beobide;4;121#15\n",
       "497    T499;Sara;Stoica;2;404#2743\n",
       "498    T500;Nicole;Amador;3;221081\n",
       "\n",
       "[499 rows x 1 columns]"
      ]
     },
     "execution_count": 26,
     "metadata": {},
     "output_type": "execute_result"
    }
   ],
   "source": [
    "import pandas as pd\n",
    "\n",
    "# Especifica la ruta de tu archivo CSV\n",
    "ruta_archivo = 'trabajador.csv'\n",
    "\n",
    "# Lee el archivo CSV en un DataFrame\n",
    "df = pd.read_csv(ruta_archivo)\n",
    "\n",
    "# Muestra el DataFrame\n",
    "df"
   ]
  },
  {
   "cell_type": "code",
   "execution_count": 27,
   "id": "6f5eaa96",
   "metadata": {},
   "outputs": [
    {
     "ename": "ValueError",
     "evalue": "Value must be a nonnegative integer or None",
     "output_type": "error",
     "traceback": [
      "\u001b[1;31m---------------------------------------------------------------------------\u001b[0m",
      "\u001b[1;31mValueError\u001b[0m                                Traceback (most recent call last)",
      "Cell \u001b[1;32mIn[27], line 2\u001b[0m\n\u001b[0;32m      1\u001b[0m \u001b[38;5;66;03m# Ajusta la longitud máxima de las columnas y la justificación a la izquierda\u001b[39;00m\n\u001b[1;32m----> 2\u001b[0m pd\u001b[38;5;241m.\u001b[39mset_option(\u001b[38;5;124m'\u001b[39m\u001b[38;5;124mdisplay.max_colwidth\u001b[39m\u001b[38;5;124m'\u001b[39m, \u001b[38;5;241m-\u001b[39m\u001b[38;5;241m1\u001b[39m)\n\u001b[0;32m      3\u001b[0m pd\u001b[38;5;241m.\u001b[39mset_option(\u001b[38;5;124m'\u001b[39m\u001b[38;5;124mcolheader_justify\u001b[39m\u001b[38;5;124m'\u001b[39m, \u001b[38;5;124m'\u001b[39m\u001b[38;5;124mleft\u001b[39m\u001b[38;5;124m'\u001b[39m)\n\u001b[0;32m      5\u001b[0m \u001b[38;5;66;03m# Muestra el DataFrame\u001b[39;00m\n",
      "File \u001b[1;32m~\\anaconda3\\Lib\\site-packages\\pandas\\_config\\config.py:261\u001b[0m, in \u001b[0;36mCallableDynamicDoc.__call__\u001b[1;34m(self, *args, **kwds)\u001b[0m\n\u001b[0;32m    260\u001b[0m \u001b[38;5;28;01mdef\u001b[39;00m \u001b[38;5;21m__call__\u001b[39m(\u001b[38;5;28mself\u001b[39m, \u001b[38;5;241m*\u001b[39margs, \u001b[38;5;241m*\u001b[39m\u001b[38;5;241m*\u001b[39mkwds) \u001b[38;5;241m-\u001b[39m\u001b[38;5;241m>\u001b[39m T:\n\u001b[1;32m--> 261\u001b[0m     \u001b[38;5;28;01mreturn\u001b[39;00m \u001b[38;5;28mself\u001b[39m\u001b[38;5;241m.\u001b[39m\u001b[38;5;18m__func__\u001b[39m(\u001b[38;5;241m*\u001b[39margs, \u001b[38;5;241m*\u001b[39m\u001b[38;5;241m*\u001b[39mkwds)\n",
      "File \u001b[1;32m~\\anaconda3\\Lib\\site-packages\\pandas\\_config\\config.py:160\u001b[0m, in \u001b[0;36m_set_option\u001b[1;34m(*args, **kwargs)\u001b[0m\n\u001b[0;32m    158\u001b[0m o \u001b[38;5;241m=\u001b[39m _get_registered_option(key)\n\u001b[0;32m    159\u001b[0m \u001b[38;5;28;01mif\u001b[39;00m o \u001b[38;5;129;01mand\u001b[39;00m o\u001b[38;5;241m.\u001b[39mvalidator:\n\u001b[1;32m--> 160\u001b[0m     o\u001b[38;5;241m.\u001b[39mvalidator(v)\n\u001b[0;32m    162\u001b[0m \u001b[38;5;66;03m# walk the nested dict\u001b[39;00m\n\u001b[0;32m    163\u001b[0m root, k \u001b[38;5;241m=\u001b[39m _get_root(key)\n",
      "File \u001b[1;32m~\\anaconda3\\Lib\\site-packages\\pandas\\_config\\config.py:882\u001b[0m, in \u001b[0;36mis_nonnegative_int\u001b[1;34m(value)\u001b[0m\n\u001b[0;32m    879\u001b[0m         \u001b[38;5;28;01mreturn\u001b[39;00m\n\u001b[0;32m    881\u001b[0m msg \u001b[38;5;241m=\u001b[39m \u001b[38;5;124m\"\u001b[39m\u001b[38;5;124mValue must be a nonnegative integer or None\u001b[39m\u001b[38;5;124m\"\u001b[39m\n\u001b[1;32m--> 882\u001b[0m \u001b[38;5;28;01mraise\u001b[39;00m \u001b[38;5;167;01mValueError\u001b[39;00m(msg)\n",
      "\u001b[1;31mValueError\u001b[0m: Value must be a nonnegative integer or None"
     ]
    }
   ],
   "source": [
    "# Ajusta la longitud máxima de las columnas y la justificación a la izquierda\n",
    "pd.set_option('display.max_colwidth', -1)\n",
    "pd.set_option('colheader_justify', 'left')\n",
    "\n",
    "# Muestra el DataFrame\n",
    "df"
   ]
  },
  {
   "cell_type": "code",
   "execution_count": 28,
   "id": "8819590b",
   "metadata": {},
   "outputs": [
    {
     "ename": "ValueError",
     "evalue": "Value must be a nonnegative integer or None",
     "output_type": "error",
     "traceback": [
      "\u001b[1;31m---------------------------------------------------------------------------\u001b[0m",
      "\u001b[1;31mValueError\u001b[0m                                Traceback (most recent call last)",
      "Cell \u001b[1;32mIn[28], line 10\u001b[0m\n\u001b[0;32m      7\u001b[0m df \u001b[38;5;241m=\u001b[39m pd\u001b[38;5;241m.\u001b[39mread_csv(ruta_archivo)\n\u001b[0;32m      9\u001b[0m \u001b[38;5;66;03m# Ajusta la longitud máxima de las columnas y la justificación a la izquierda\u001b[39;00m\n\u001b[1;32m---> 10\u001b[0m pd\u001b[38;5;241m.\u001b[39mset_option(\u001b[38;5;124m'\u001b[39m\u001b[38;5;124mdisplay.max_colwidth\u001b[39m\u001b[38;5;124m'\u001b[39m, \u001b[38;5;241m-\u001b[39m\u001b[38;5;241m1\u001b[39m)\n\u001b[0;32m     11\u001b[0m pd\u001b[38;5;241m.\u001b[39mset_option(\u001b[38;5;124m'\u001b[39m\u001b[38;5;124mcolheader_justify\u001b[39m\u001b[38;5;124m'\u001b[39m, \u001b[38;5;124m'\u001b[39m\u001b[38;5;124mleft\u001b[39m\u001b[38;5;124m'\u001b[39m)\n\u001b[0;32m     13\u001b[0m \u001b[38;5;66;03m# Muestra el DataFrame\u001b[39;00m\n",
      "File \u001b[1;32m~\\anaconda3\\Lib\\site-packages\\pandas\\_config\\config.py:261\u001b[0m, in \u001b[0;36mCallableDynamicDoc.__call__\u001b[1;34m(self, *args, **kwds)\u001b[0m\n\u001b[0;32m    260\u001b[0m \u001b[38;5;28;01mdef\u001b[39;00m \u001b[38;5;21m__call__\u001b[39m(\u001b[38;5;28mself\u001b[39m, \u001b[38;5;241m*\u001b[39margs, \u001b[38;5;241m*\u001b[39m\u001b[38;5;241m*\u001b[39mkwds) \u001b[38;5;241m-\u001b[39m\u001b[38;5;241m>\u001b[39m T:\n\u001b[1;32m--> 261\u001b[0m     \u001b[38;5;28;01mreturn\u001b[39;00m \u001b[38;5;28mself\u001b[39m\u001b[38;5;241m.\u001b[39m\u001b[38;5;18m__func__\u001b[39m(\u001b[38;5;241m*\u001b[39margs, \u001b[38;5;241m*\u001b[39m\u001b[38;5;241m*\u001b[39mkwds)\n",
      "File \u001b[1;32m~\\anaconda3\\Lib\\site-packages\\pandas\\_config\\config.py:160\u001b[0m, in \u001b[0;36m_set_option\u001b[1;34m(*args, **kwargs)\u001b[0m\n\u001b[0;32m    158\u001b[0m o \u001b[38;5;241m=\u001b[39m _get_registered_option(key)\n\u001b[0;32m    159\u001b[0m \u001b[38;5;28;01mif\u001b[39;00m o \u001b[38;5;129;01mand\u001b[39;00m o\u001b[38;5;241m.\u001b[39mvalidator:\n\u001b[1;32m--> 160\u001b[0m     o\u001b[38;5;241m.\u001b[39mvalidator(v)\n\u001b[0;32m    162\u001b[0m \u001b[38;5;66;03m# walk the nested dict\u001b[39;00m\n\u001b[0;32m    163\u001b[0m root, k \u001b[38;5;241m=\u001b[39m _get_root(key)\n",
      "File \u001b[1;32m~\\anaconda3\\Lib\\site-packages\\pandas\\_config\\config.py:882\u001b[0m, in \u001b[0;36mis_nonnegative_int\u001b[1;34m(value)\u001b[0m\n\u001b[0;32m    879\u001b[0m         \u001b[38;5;28;01mreturn\u001b[39;00m\n\u001b[0;32m    881\u001b[0m msg \u001b[38;5;241m=\u001b[39m \u001b[38;5;124m\"\u001b[39m\u001b[38;5;124mValue must be a nonnegative integer or None\u001b[39m\u001b[38;5;124m\"\u001b[39m\n\u001b[1;32m--> 882\u001b[0m \u001b[38;5;28;01mraise\u001b[39;00m \u001b[38;5;167;01mValueError\u001b[39;00m(msg)\n",
      "\u001b[1;31mValueError\u001b[0m: Value must be a nonnegative integer or None"
     ]
    }
   ],
   "source": [
    "import pandas as pd\n",
    "\n",
    "# Especifica la ruta de tu archivo CSV\n",
    "ruta_archivo = 'trabajador.csv'\n",
    "\n",
    "# Lee el archivo CSV en un DataFrame\n",
    "df = pd.read_csv(ruta_archivo)\n",
    "\n",
    "# Ajusta la longitud máxima de las columnas y la justificación a la izquierda\n",
    "pd.set_option('display.max_colwidth', -1)\n",
    "pd.set_option('colheader_justify', 'left')\n",
    "\n",
    "# Muestra el DataFrame\n",
    "df"
   ]
  },
  {
   "cell_type": "code",
   "execution_count": 29,
   "id": "7c87896e",
   "metadata": {},
   "outputs": [
    {
     "data": {
      "text/html": [
       "<div>\n",
       "<style scoped>\n",
       "    .dataframe tbody tr th:only-of-type {\n",
       "        vertical-align: middle;\n",
       "    }\n",
       "\n",
       "    .dataframe tbody tr th {\n",
       "        vertical-align: top;\n",
       "    }\n",
       "\n",
       "    .dataframe thead th {\n",
       "        text-align: right;\n",
       "    }\n",
       "</style>\n",
       "<table border=\"1\" class=\"dataframe\">\n",
       "  <thead>\n",
       "    <tr style=\"text-align: right;\">\n",
       "      <th></th>\n",
       "      <th>T1;Lucrezia;Berroeta;1;532</th>\n",
       "    </tr>\n",
       "  </thead>\n",
       "  <tbody>\n",
       "    <tr>\n",
       "      <th>count</th>\n",
       "      <td>499</td>\n",
       "    </tr>\n",
       "    <tr>\n",
       "      <th>unique</th>\n",
       "      <td>499</td>\n",
       "    </tr>\n",
       "    <tr>\n",
       "      <th>top</th>\n",
       "      <td>T2;Faith;Olmedo;4;149#10</td>\n",
       "    </tr>\n",
       "    <tr>\n",
       "      <th>freq</th>\n",
       "      <td>1</td>\n",
       "    </tr>\n",
       "  </tbody>\n",
       "</table>\n",
       "</div>"
      ],
      "text/plain": [
       "       T1;Lucrezia;Berroeta;1;532\n",
       "count                         499\n",
       "unique                        499\n",
       "top      T2;Faith;Olmedo;4;149#10\n",
       "freq                            1"
      ]
     },
     "execution_count": 29,
     "metadata": {},
     "output_type": "execute_result"
    }
   ],
   "source": [
    "df_train = pd.read_csv('trabajador.csv')\n",
    "df_train.describe()"
   ]
  },
  {
   "cell_type": "code",
   "execution_count": null,
   "id": "ae0118db",
   "metadata": {},
   "outputs": [],
   "source": []
  }
 ],
 "metadata": {
  "kernelspec": {
   "display_name": "Python 3 (ipykernel)",
   "language": "python",
   "name": "python3"
  },
  "language_info": {
   "codemirror_mode": {
    "name": "ipython",
    "version": 3
   },
   "file_extension": ".py",
   "mimetype": "text/x-python",
   "name": "python",
   "nbconvert_exporter": "python",
   "pygments_lexer": "ipython3",
   "version": "3.11.5"
  }
 },
 "nbformat": 4,
 "nbformat_minor": 5
}
